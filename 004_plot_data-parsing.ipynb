{
 "cells": [
  {
   "cell_type": "markdown",
   "id": "06262f6b",
   "metadata": {},
   "source": [
    "# Loading the data from the web"
   ]
  },
  {
   "cell_type": "code",
   "execution_count": 1,
   "id": "9f233516",
   "metadata": {},
   "outputs": [
    {
     "ename": "NameError",
     "evalue": "name '__file__' is not defined",
     "output_type": "error",
     "traceback": [
      "\u001b[0;31m---------------------------------------------------------------------------\u001b[0m",
      "\u001b[0;31mNameError\u001b[0m                                 Traceback (most recent call last)",
      "\u001b[0;32m/var/folders/f0/6n5cj1pd2td3sgkgfsl766lr0000gn/T/ipykernel_11885/300078605.py\u001b[0m in \u001b[0;36m<module>\u001b[0;34m\u001b[0m\n\u001b[1;32m      3\u001b[0m \u001b[0;32mimport\u001b[0m \u001b[0mpandas\u001b[0m \u001b[0;32mas\u001b[0m \u001b[0mpd\u001b[0m\u001b[0;34m\u001b[0m\u001b[0;34m\u001b[0m\u001b[0m\n\u001b[1;32m      4\u001b[0m \u001b[0;34m\u001b[0m\u001b[0m\n\u001b[0;32m----> 5\u001b[0;31m \u001b[0mhere\u001b[0m \u001b[0;34m=\u001b[0m \u001b[0mPath\u001b[0m\u001b[0;34m(\u001b[0m\u001b[0m__file__\u001b[0m\u001b[0;34m)\u001b[0m\u001b[0;34m.\u001b[0m\u001b[0mabsolute\u001b[0m\u001b[0;34m(\u001b[0m\u001b[0;34m)\u001b[0m\u001b[0;34m.\u001b[0m\u001b[0mparent\u001b[0m\u001b[0;34m\u001b[0m\u001b[0;34m\u001b[0m\u001b[0m\n\u001b[0m\u001b[1;32m      6\u001b[0m \u001b[0mcsv_file\u001b[0m \u001b[0;34m=\u001b[0m \u001b[0mhere\u001b[0m \u001b[0;34m/\u001b[0m \u001b[0;34m'stocks.csv'\u001b[0m\u001b[0;34m\u001b[0m\u001b[0;34m\u001b[0m\u001b[0m\n\u001b[1;32m      7\u001b[0m \u001b[0;34m\u001b[0m\u001b[0m\n",
      "\u001b[0;31mNameError\u001b[0m: name '__file__' is not defined"
     ]
    }
   ],
   "source": [
    "from pathlib import Path\n",
    "from urllib.request import urlopen\n",
    "import pandas as pd\n",
    "\n",
    "here = Path(__file__).absolute().parent\n",
    "csv_file = here / 'stocks.csv'\n",
    "\n",
    "dfs = []\n",
    "symbols = [\n",
    "    'GOOG',\n",
    "    'MSFT',\n",
    "    'ORCL',\n",
    "]\n",
    "for sym in symbols:\n",
    "    print(f'downloading {sym}')\n",
    "    url = f'https://query1.finance.yahoo.com/v7/finance/download/{sym}'\n",
    "    url += '?period1=1577836800&period2=1609372800&interval=1d&events=history'\n",
    "    with urlopen(url) as resp:\n",
    "        df = pd.read_csv(resp, parse_dates=['Date'])\n",
    "        df['Symbol'] = sym\n",
    "        df.insert(1, 'Symbol', df.pop('Symbol'))\n",
    "        dfs.append(df)\n",
    "df = pd.concat(dfs)\n",
    "df.sort_values('Date', inplace=True)\n",
    "df.to_csv(csv_file, index=False)"
   ]
  },
  {
   "cell_type": "markdown",
   "id": "257d0425",
   "metadata": {},
   "source": [
    "***Thank you for going through this projet. Your comments are more then welcome to ybezginova2021@gmail.com***\n",
    "\n",
    "***Best wishes,***\n",
    "\n",
    "***Yulia***"
   ]
  }
 ],
 "metadata": {
  "kernelspec": {
   "display_name": "Python 3 (ipykernel)",
   "language": "python",
   "name": "python3"
  },
  "language_info": {
   "codemirror_mode": {
    "name": "ipython",
    "version": 3
   },
   "file_extension": ".py",
   "mimetype": "text/x-python",
   "name": "python",
   "nbconvert_exporter": "python",
   "pygments_lexer": "ipython3",
   "version": "3.9.7"
  }
 },
 "nbformat": 4,
 "nbformat_minor": 5
}
