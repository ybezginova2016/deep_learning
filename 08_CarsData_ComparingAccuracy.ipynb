{
 "cells": [
  {
   "cell_type": "markdown",
   "id": "06d2afa2",
   "metadata": {},
   "source": [
    "# 8.0 Cars Dataset - Compare Accuracy of different ML algorithms"
   ]
  },
  {
   "cell_type": "markdown",
   "id": "35ee0d9d",
   "metadata": {},
   "source": [
    "<div class=\"alert alert-block alert-info\">\n",
    "<b>Общая методология выбора и тестирования наилучшей модели</b>\n",
    "\n",
    "Чтобы все было ясно, напишу конкретный план (структуру) обучения и анализа моделей:\n",
    "\n",
    "1. **Обучение моделей**. В обучении нужно рассмотреть хотя бы одну простую модель и один бустинг. Подбор гиперпараметров нужно провести хотя бы одной модели. Тут есть два варианта:\n",
    "    - без валидационной выборки. Здесь нужно подбирать гиперпараметры с помощью кросс-валидации (GridSearchCV, RandomizedSearchCV или вручную (cross_val_score));\n",
    "    - валидационная выборка есть. Здесь можно не использовать кросс-валидацию и подбирать гиперпараметры вручную.  \n",
    "    \n",
    "    \n",
    "    \n",
    "2. **Анализ моделей.** После нахождения лучших гиперпараметров стоит измерить время обучения, предсказания и RMSE. Тут тоже есть два варианта:\n",
    "    - ***без валидационной выборки***: RMSE на кросс-валидации. Время обучения = время model.fit(X_train). Время предсказания  = model.predict(X_train);\n",
    "    \n",
    "    - ***валидационная выборка есть***: RMSE на validation. Время обучения = время model.fit(X_train). Время предсказания = время model.predict(X_valid).  \n",
    "    \n",
    "    После этого делаем вывод по анализу и советуем заказчику одну модель на основе его критериев.\n",
    "    \n",
    "    \n",
    "    \n",
    "3. **Тестирование.** Рассчитаем финальную метрику лучшей модели на тестовой выборке (до этого тестовая выборка нигде не должна использоваться!). RMSE должно быть меньше 2500. Если метрика не дотягивает, можно исправить мои замечания, также можно потюнить гиперпараметры (на этапе обучения моделей, не на тестовой выборке!)\n",
    "</div>"
   ]
  },
  {
   "cell_type": "code",
   "execution_count": 500,
   "id": "d8b5aa90",
   "metadata": {},
   "outputs": [],
   "source": [
    "import pandas as pd\n",
    "import warnings\n",
    "warnings.simplefilter(\"ignore\", category=RuntimeWarning)\n",
    "pd.options.mode.chained_assignment = None\n",
    "\n",
    "from sklearn import tree, metrics, ensemble, neural_network, naive_bayes, neighbors\n",
    "# ensemble for RF\n",
    "from sklearn.neural_network import MLPClassifier\n",
    "from sklearn.naive_bayes import GaussianNB\n",
    "from sklearn.neighbors import KNeighborsClassifier\n",
    "from sklearn.pipeline import make_pipeline\n",
    "from sklearn import svm\n",
    "from sklearn.svm import SVC\n",
    "\n",
    "import numpy as np\n",
    "\n",
    "from sklearn.preprocessing import LabelEncoder\n",
    "from sklearn.model_selection import train_test_split\n",
    "\n",
    "from sklearn.preprocessing import StandardScaler"
   ]
  },
  {
   "cell_type": "code",
   "execution_count": 342,
   "id": "9c7658b2",
   "metadata": {},
   "outputs": [],
   "source": [
    "data = pd.read_csv('/Users/yuliabezginova/PycharmProjects/deep_learning/cars.csv')"
   ]
  },
  {
   "cell_type": "code",
   "execution_count": 343,
   "id": "902e059d",
   "metadata": {
    "scrolled": false
   },
   "outputs": [
    {
     "data": {
      "text/html": [
       "<div>\n",
       "<style scoped>\n",
       "    .dataframe tbody tr th:only-of-type {\n",
       "        vertical-align: middle;\n",
       "    }\n",
       "\n",
       "    .dataframe tbody tr th {\n",
       "        vertical-align: top;\n",
       "    }\n",
       "\n",
       "    .dataframe thead th {\n",
       "        text-align: right;\n",
       "    }\n",
       "</style>\n",
       "<table border=\"1\" class=\"dataframe\">\n",
       "  <thead>\n",
       "    <tr style=\"text-align: right;\">\n",
       "      <th></th>\n",
       "      <th>mpg</th>\n",
       "      <th>cylinders</th>\n",
       "      <th>cubicinches</th>\n",
       "      <th>hp</th>\n",
       "      <th>weightlbs</th>\n",
       "      <th>time-to-60</th>\n",
       "      <th>year</th>\n",
       "      <th>brand</th>\n",
       "    </tr>\n",
       "  </thead>\n",
       "  <tbody>\n",
       "    <tr>\n",
       "      <th>0</th>\n",
       "      <td>14.0</td>\n",
       "      <td>8</td>\n",
       "      <td>350</td>\n",
       "      <td>165</td>\n",
       "      <td>4209</td>\n",
       "      <td>12</td>\n",
       "      <td>1972</td>\n",
       "      <td>US.</td>\n",
       "    </tr>\n",
       "    <tr>\n",
       "      <th>1</th>\n",
       "      <td>31.9</td>\n",
       "      <td>4</td>\n",
       "      <td>89</td>\n",
       "      <td>71</td>\n",
       "      <td>1925</td>\n",
       "      <td>14</td>\n",
       "      <td>1980</td>\n",
       "      <td>Europe.</td>\n",
       "    </tr>\n",
       "    <tr>\n",
       "      <th>2</th>\n",
       "      <td>17.0</td>\n",
       "      <td>8</td>\n",
       "      <td>302</td>\n",
       "      <td>140</td>\n",
       "      <td>3449</td>\n",
       "      <td>11</td>\n",
       "      <td>1971</td>\n",
       "      <td>US.</td>\n",
       "    </tr>\n",
       "    <tr>\n",
       "      <th>3</th>\n",
       "      <td>15.0</td>\n",
       "      <td>8</td>\n",
       "      <td>400</td>\n",
       "      <td>150</td>\n",
       "      <td>3761</td>\n",
       "      <td>10</td>\n",
       "      <td>1971</td>\n",
       "      <td>US.</td>\n",
       "    </tr>\n",
       "    <tr>\n",
       "      <th>4</th>\n",
       "      <td>30.5</td>\n",
       "      <td>4</td>\n",
       "      <td>98</td>\n",
       "      <td>63</td>\n",
       "      <td>2051</td>\n",
       "      <td>17</td>\n",
       "      <td>1978</td>\n",
       "      <td>US.</td>\n",
       "    </tr>\n",
       "  </tbody>\n",
       "</table>\n",
       "</div>"
      ],
      "text/plain": [
       "    mpg   cylinders  cubicinches   hp  weightlbs   time-to-60   year     brand\n",
       "0  14.0           8          350  165       4209           12   1972       US.\n",
       "1  31.9           4           89   71       1925           14   1980   Europe.\n",
       "2  17.0           8          302  140       3449           11   1971       US.\n",
       "3  15.0           8          400  150       3761           10   1971       US.\n",
       "4  30.5           4           98   63       2051           17   1978       US."
      ]
     },
     "execution_count": 343,
     "metadata": {},
     "output_type": "execute_result"
    }
   ],
   "source": [
    "data.head()"
   ]
  },
  {
   "cell_type": "code",
   "execution_count": 391,
   "id": "5209b415",
   "metadata": {},
   "outputs": [
    {
     "name": "stdout",
     "output_type": "stream",
     "text": [
      "<class 'pandas.core.frame.DataFrame'>\n",
      "RangeIndex: 261 entries, 0 to 260\n",
      "Data columns (total 8 columns):\n",
      " #   Column       Non-Null Count  Dtype  \n",
      "---  ------       --------------  -----  \n",
      " 0   mpg          261 non-null    float64\n",
      " 1   cylinders    261 non-null    int64  \n",
      " 2   cubicinches  261 non-null    object \n",
      " 3   hp           261 non-null    int64  \n",
      " 4   weightlbs    261 non-null    object \n",
      " 5   time-to-60   261 non-null    int64  \n",
      " 6   year         261 non-null    int64  \n",
      " 7   brand        261 non-null    object \n",
      "dtypes: float64(1), int64(4), object(3)\n",
      "memory usage: 16.4+ KB\n"
     ]
    }
   ],
   "source": [
    "data.info()"
   ]
  },
  {
   "cell_type": "code",
   "execution_count": 392,
   "id": "7c6cf66d",
   "metadata": {
    "scrolled": true
   },
   "outputs": [
    {
     "data": {
      "text/plain": [
       "Index(['mpg', 'cylinders', 'cubicinches', 'hp', 'weightlbs', 'time-to-60',\n",
       "       'year', 'brand'],\n",
       "      dtype='object')"
      ]
     },
     "execution_count": 392,
     "metadata": {},
     "output_type": "execute_result"
    }
   ],
   "source": [
    "data.columns"
   ]
  },
  {
   "cell_type": "code",
   "execution_count": 393,
   "id": "60053543",
   "metadata": {},
   "outputs": [],
   "source": [
    "data.columns = data.columns.str.strip()"
   ]
  },
  {
   "cell_type": "code",
   "execution_count": 394,
   "id": "dfa7ea6b",
   "metadata": {
    "scrolled": true
   },
   "outputs": [
    {
     "data": {
      "text/html": [
       "<div>\n",
       "<style scoped>\n",
       "    .dataframe tbody tr th:only-of-type {\n",
       "        vertical-align: middle;\n",
       "    }\n",
       "\n",
       "    .dataframe tbody tr th {\n",
       "        vertical-align: top;\n",
       "    }\n",
       "\n",
       "    .dataframe thead th {\n",
       "        text-align: right;\n",
       "    }\n",
       "</style>\n",
       "<table border=\"1\" class=\"dataframe\">\n",
       "  <thead>\n",
       "    <tr style=\"text-align: right;\">\n",
       "      <th></th>\n",
       "      <th>mpg</th>\n",
       "      <th>cylinders</th>\n",
       "      <th>cubicinches</th>\n",
       "      <th>hp</th>\n",
       "      <th>weightlbs</th>\n",
       "      <th>time-to-60</th>\n",
       "      <th>year</th>\n",
       "      <th>brand</th>\n",
       "    </tr>\n",
       "  </thead>\n",
       "  <tbody>\n",
       "    <tr>\n",
       "      <th>0</th>\n",
       "      <td>14.0</td>\n",
       "      <td>8</td>\n",
       "      <td>350</td>\n",
       "      <td>165</td>\n",
       "      <td>4209</td>\n",
       "      <td>12</td>\n",
       "      <td>1972</td>\n",
       "      <td>US.</td>\n",
       "    </tr>\n",
       "    <tr>\n",
       "      <th>1</th>\n",
       "      <td>31.9</td>\n",
       "      <td>4</td>\n",
       "      <td>89</td>\n",
       "      <td>71</td>\n",
       "      <td>1925</td>\n",
       "      <td>14</td>\n",
       "      <td>1980</td>\n",
       "      <td>Europe.</td>\n",
       "    </tr>\n",
       "    <tr>\n",
       "      <th>2</th>\n",
       "      <td>17.0</td>\n",
       "      <td>8</td>\n",
       "      <td>302</td>\n",
       "      <td>140</td>\n",
       "      <td>3449</td>\n",
       "      <td>11</td>\n",
       "      <td>1971</td>\n",
       "      <td>US.</td>\n",
       "    </tr>\n",
       "    <tr>\n",
       "      <th>3</th>\n",
       "      <td>15.0</td>\n",
       "      <td>8</td>\n",
       "      <td>400</td>\n",
       "      <td>150</td>\n",
       "      <td>3761</td>\n",
       "      <td>10</td>\n",
       "      <td>1971</td>\n",
       "      <td>US.</td>\n",
       "    </tr>\n",
       "    <tr>\n",
       "      <th>4</th>\n",
       "      <td>30.5</td>\n",
       "      <td>4</td>\n",
       "      <td>98</td>\n",
       "      <td>63</td>\n",
       "      <td>2051</td>\n",
       "      <td>17</td>\n",
       "      <td>1978</td>\n",
       "      <td>US.</td>\n",
       "    </tr>\n",
       "  </tbody>\n",
       "</table>\n",
       "</div>"
      ],
      "text/plain": [
       "    mpg  cylinders cubicinches   hp weightlbs  time-to-60  year     brand\n",
       "0  14.0          8         350  165      4209          12  1972       US.\n",
       "1  31.9          4          89   71      1925          14  1980   Europe.\n",
       "2  17.0          8         302  140      3449          11  1971       US.\n",
       "3  15.0          8         400  150      3761          10  1971       US.\n",
       "4  30.5          4          98   63      2051          17  1978       US."
      ]
     },
     "execution_count": 394,
     "metadata": {},
     "output_type": "execute_result"
    }
   ],
   "source": [
    "data.head()"
   ]
  },
  {
   "cell_type": "code",
   "execution_count": 395,
   "id": "fd345fa1",
   "metadata": {},
   "outputs": [
    {
     "data": {
      "text/html": [
       "<style type=\"text/css\">\n",
       "#T_5cfc2_row0_col0, #T_5cfc2_row1_col0, #T_5cfc2_row2_col0, #T_5cfc2_row3_col0, #T_5cfc2_row4_col0, #T_5cfc2_row5_col0, #T_5cfc2_row6_col0, #T_5cfc2_row7_col0 {\n",
       "  background-color: #3b4cc0;\n",
       "  color: #f1f1f1;\n",
       "}\n",
       "</style>\n",
       "<table id=\"T_5cfc2_\">\n",
       "  <thead>\n",
       "    <tr>\n",
       "      <th class=\"blank level0\" >&nbsp;</th>\n",
       "      <th class=\"col_heading level0 col0\" >0</th>\n",
       "    </tr>\n",
       "  </thead>\n",
       "  <tbody>\n",
       "    <tr>\n",
       "      <th id=\"T_5cfc2_level0_row0\" class=\"row_heading level0 row0\" >mpg</th>\n",
       "      <td id=\"T_5cfc2_row0_col0\" class=\"data row0 col0\" >0.000000</td>\n",
       "    </tr>\n",
       "    <tr>\n",
       "      <th id=\"T_5cfc2_level0_row1\" class=\"row_heading level0 row1\" >cylinders</th>\n",
       "      <td id=\"T_5cfc2_row1_col0\" class=\"data row1 col0\" >0.000000</td>\n",
       "    </tr>\n",
       "    <tr>\n",
       "      <th id=\"T_5cfc2_level0_row2\" class=\"row_heading level0 row2\" >cubicinches</th>\n",
       "      <td id=\"T_5cfc2_row2_col0\" class=\"data row2 col0\" >0.000000</td>\n",
       "    </tr>\n",
       "    <tr>\n",
       "      <th id=\"T_5cfc2_level0_row3\" class=\"row_heading level0 row3\" >hp</th>\n",
       "      <td id=\"T_5cfc2_row3_col0\" class=\"data row3 col0\" >0.000000</td>\n",
       "    </tr>\n",
       "    <tr>\n",
       "      <th id=\"T_5cfc2_level0_row4\" class=\"row_heading level0 row4\" >weightlbs</th>\n",
       "      <td id=\"T_5cfc2_row4_col0\" class=\"data row4 col0\" >0.000000</td>\n",
       "    </tr>\n",
       "    <tr>\n",
       "      <th id=\"T_5cfc2_level0_row5\" class=\"row_heading level0 row5\" >time-to-60</th>\n",
       "      <td id=\"T_5cfc2_row5_col0\" class=\"data row5 col0\" >0.000000</td>\n",
       "    </tr>\n",
       "    <tr>\n",
       "      <th id=\"T_5cfc2_level0_row6\" class=\"row_heading level0 row6\" >year</th>\n",
       "      <td id=\"T_5cfc2_row6_col0\" class=\"data row6 col0\" >0.000000</td>\n",
       "    </tr>\n",
       "    <tr>\n",
       "      <th id=\"T_5cfc2_level0_row7\" class=\"row_heading level0 row7\" >brand</th>\n",
       "      <td id=\"T_5cfc2_row7_col0\" class=\"data row7 col0\" >0.000000</td>\n",
       "    </tr>\n",
       "  </tbody>\n",
       "</table>\n"
      ],
      "text/plain": [
       "<pandas.io.formats.style.Styler at 0x7f9db6ba9bb0>"
      ]
     },
     "execution_count": 395,
     "metadata": {},
     "output_type": "execute_result"
    }
   ],
   "source": [
    "pd.DataFrame(round(data.isna().mean()*100,)).style.background_gradient('coolwarm')"
   ]
  },
  {
   "cell_type": "code",
   "execution_count": 396,
   "id": "07bd9b0e",
   "metadata": {},
   "outputs": [
    {
     "data": {
      "text/plain": [
       "Index(['mpg', 'cylinders', 'cubicinches', 'hp', 'weightlbs', 'time-to-60',\n",
       "       'year', 'brand'],\n",
       "      dtype='object')"
      ]
     },
     "execution_count": 396,
     "metadata": {},
     "output_type": "execute_result"
    }
   ],
   "source": [
    "data.columns"
   ]
  },
  {
   "cell_type": "code",
   "execution_count": 397,
   "id": "822dfe4e",
   "metadata": {},
   "outputs": [
    {
     "name": "stdout",
     "output_type": "stream",
     "text": [
      "mpg 0\n",
      "cylinders 0\n",
      "cubicinches 0\n",
      "hp 0\n",
      "weightlbs 0\n",
      "time-to-60 0\n",
      "year 0\n",
      "brand 0\n"
     ]
    }
   ],
   "source": [
    "# проверка дубликатов внутри признаков\n",
    "check_col = ['mpg', 'cylinders', 'cubicinches', 'hp', 'weightlbs', 'time-to-60',\n",
    "       'year', 'brand']\n",
    "for col in check_col:\n",
    "    print(col, pd.Series(data[col].unique()).duplicated().sum())"
   ]
  },
  {
   "cell_type": "code",
   "execution_count": 398,
   "id": "4e26aa29",
   "metadata": {},
   "outputs": [
    {
     "data": {
      "text/plain": [
       "0"
      ]
     },
     "execution_count": 398,
     "metadata": {},
     "output_type": "execute_result"
    }
   ],
   "source": [
    "# проверка дубликатов объектов\n",
    "data.duplicated().sum()"
   ]
  },
  {
   "cell_type": "code",
   "execution_count": 399,
   "id": "14a68e12",
   "metadata": {},
   "outputs": [],
   "source": [
    "# creating a separate dataset for target\n",
    "target = data['brand']"
   ]
  },
  {
   "cell_type": "code",
   "execution_count": 400,
   "id": "8b3251c7",
   "metadata": {},
   "outputs": [],
   "source": [
    "# excluding target variable from the dataset\n",
    "features = data.drop(columns=['brand', 'year'], axis=1)"
   ]
  },
  {
   "cell_type": "code",
   "execution_count": 401,
   "id": "f018fc7b",
   "metadata": {},
   "outputs": [],
   "source": [
    "# splitting datasets\n",
    "# splitting should be done BEFORE encoding in order to avoid a data leakage\n",
    "X_train, X_test, y_train, y_test = train_test_split(features, target, test_size=0.2)"
   ]
  },
  {
   "cell_type": "code",
   "execution_count": 402,
   "id": "dafd7180",
   "metadata": {},
   "outputs": [
    {
     "name": "stdout",
     "output_type": "stream",
     "text": [
      "Train features sample size: 208\n",
      "Test features sample size: 53\n",
      "Train features sample size: 208\n",
      "Test features sample size: 53\n"
     ]
    }
   ],
   "source": [
    "print('Train features sample size:', X_train.shape[0])\n",
    "print('Test features sample size:', X_test.shape[0])\n",
    "print('Train features sample size:', y_train.shape[0])\n",
    "print('Test features sample size:', y_test.shape[0])"
   ]
  },
  {
   "cell_type": "code",
   "execution_count": 403,
   "id": "1e64f4c5",
   "metadata": {},
   "outputs": [],
   "source": [
    "y_train = y_train.to_frame(name=None)"
   ]
  },
  {
   "cell_type": "code",
   "execution_count": 404,
   "id": "2f3272af",
   "metadata": {},
   "outputs": [],
   "source": [
    "y_test = y_test.to_frame(name=None)"
   ]
  },
  {
   "cell_type": "code",
   "execution_count": 405,
   "id": "48c77b9e",
   "metadata": {},
   "outputs": [],
   "source": [
    "target_col = LabelEncoder()"
   ]
  },
  {
   "cell_type": "code",
   "execution_count": 406,
   "id": "61abd291",
   "metadata": {
    "scrolled": true
   },
   "outputs": [],
   "source": [
    "y_train['brand_numeric'] = target_col.fit_transform(y_train['brand'])"
   ]
  },
  {
   "cell_type": "code",
   "execution_count": 407,
   "id": "1c72b67d",
   "metadata": {},
   "outputs": [],
   "source": [
    "y_test['brand_numeric'] = target_col.fit_transform(y_test['brand'])"
   ]
  },
  {
   "cell_type": "code",
   "execution_count": 408,
   "id": "1abf5bea",
   "metadata": {},
   "outputs": [],
   "source": [
    "y_train = y_train.drop(['brand'], axis='columns')"
   ]
  },
  {
   "cell_type": "code",
   "execution_count": 409,
   "id": "d197d48a",
   "metadata": {},
   "outputs": [],
   "source": [
    "y_test = y_test.drop(['brand'], axis='columns')"
   ]
  },
  {
   "cell_type": "code",
   "execution_count": 410,
   "id": "a7e4c4a1",
   "metadata": {},
   "outputs": [
    {
     "data": {
      "text/plain": [
       "Index(['mpg', 'cylinders', 'cubicinches', 'hp', 'weightlbs', 'time-to-60'], dtype='object')"
      ]
     },
     "execution_count": 410,
     "metadata": {},
     "output_type": "execute_result"
    }
   ],
   "source": [
    "X_train.columns"
   ]
  },
  {
   "cell_type": "code",
   "execution_count": 412,
   "id": "43d29129",
   "metadata": {
    "scrolled": true
   },
   "outputs": [
    {
     "name": "stdout",
     "output_type": "stream",
     "text": [
      "<class 'pandas.core.frame.DataFrame'>\n",
      "Int64Index: 208 entries, 212 to 108\n",
      "Data columns (total 6 columns):\n",
      " #   Column       Non-Null Count  Dtype  \n",
      "---  ------       --------------  -----  \n",
      " 0   mpg          208 non-null    float64\n",
      " 1   cylinders    208 non-null    int64  \n",
      " 2   cubicinches  208 non-null    object \n",
      " 3   hp           208 non-null    int64  \n",
      " 4   weightlbs    208 non-null    object \n",
      " 5   time-to-60   208 non-null    int64  \n",
      "dtypes: float64(1), int64(3), object(2)\n",
      "memory usage: 11.4+ KB\n"
     ]
    }
   ],
   "source": [
    "X_train.info()"
   ]
  },
  {
   "cell_type": "code",
   "execution_count": 413,
   "id": "aac621b9",
   "metadata": {},
   "outputs": [],
   "source": [
    "# changing the type of variables\n",
    "X_train['cubicinches'] = np.floor(pd.to_numeric(X_train['cubicinches'], errors='coerce')).astype('float64')\n",
    "X_train['weightlbs'] = np.floor(pd.to_numeric(X_train['weightlbs'], errors='coerce')).astype('float64')\n",
    "X_train['mpg'] = np.floor(pd.to_numeric(X_train['mpg'], errors='coerce')).astype('float64')\n",
    "\n",
    "X_test['cubicinches'] = np.floor(pd.to_numeric(X_test['cubicinches'], errors='coerce')).astype('float64')\n",
    "X_test['weightlbs'] = np.floor(pd.to_numeric(X_test['weightlbs'], errors='coerce')).astype('float64')\n",
    "X_test['mpg'] = np.floor(pd.to_numeric(X_test['mpg'], errors='coerce')).astype('float64')"
   ]
  },
  {
   "cell_type": "code",
   "execution_count": 414,
   "id": "9edcd587",
   "metadata": {
    "scrolled": false
   },
   "outputs": [
    {
     "name": "stdout",
     "output_type": "stream",
     "text": [
      "<class 'pandas.core.frame.DataFrame'>\n",
      "Int64Index: 208 entries, 212 to 108\n",
      "Data columns (total 6 columns):\n",
      " #   Column       Non-Null Count  Dtype  \n",
      "---  ------       --------------  -----  \n",
      " 0   mpg          208 non-null    float64\n",
      " 1   cylinders    208 non-null    int64  \n",
      " 2   cubicinches  208 non-null    float64\n",
      " 3   hp           208 non-null    int64  \n",
      " 4   weightlbs    205 non-null    float64\n",
      " 5   time-to-60   208 non-null    int64  \n",
      "dtypes: float64(3), int64(3)\n",
      "memory usage: 11.4 KB\n"
     ]
    }
   ],
   "source": [
    "X_train.info()"
   ]
  },
  {
   "cell_type": "code",
   "execution_count": 415,
   "id": "8f74cb44",
   "metadata": {
    "scrolled": true
   },
   "outputs": [
    {
     "name": "stdout",
     "output_type": "stream",
     "text": [
      "<class 'pandas.core.frame.DataFrame'>\n",
      "Int64Index: 208 entries, 212 to 108\n",
      "Data columns (total 1 columns):\n",
      " #   Column         Non-Null Count  Dtype\n",
      "---  ------         --------------  -----\n",
      " 0   brand_numeric  208 non-null    int64\n",
      "dtypes: int64(1)\n",
      "memory usage: 3.2 KB\n"
     ]
    }
   ],
   "source": [
    "y_train.info()"
   ]
  },
  {
   "cell_type": "code",
   "execution_count": 416,
   "id": "f5298a07",
   "metadata": {},
   "outputs": [
    {
     "name": "stdout",
     "output_type": "stream",
     "text": [
      "<class 'pandas.core.frame.DataFrame'>\n",
      "Int64Index: 53 entries, 66 to 201\n",
      "Data columns (total 1 columns):\n",
      " #   Column         Non-Null Count  Dtype\n",
      "---  ------         --------------  -----\n",
      " 0   brand_numeric  53 non-null     int64\n",
      "dtypes: int64(1)\n",
      "memory usage: 848.0 bytes\n"
     ]
    }
   ],
   "source": [
    "y_test.info()"
   ]
  },
  {
   "cell_type": "code",
   "execution_count": 417,
   "id": "ff0f9576",
   "metadata": {},
   "outputs": [
    {
     "data": {
      "text/plain": [
       "True"
      ]
     },
     "execution_count": 417,
     "metadata": {},
     "output_type": "execute_result"
    }
   ],
   "source": [
    "np.any(np.isnan(X_train))"
   ]
  },
  {
   "cell_type": "code",
   "execution_count": 418,
   "id": "a08f8f79",
   "metadata": {},
   "outputs": [
    {
     "data": {
      "text/plain": [
       "False"
      ]
     },
     "execution_count": 418,
     "metadata": {},
     "output_type": "execute_result"
    }
   ],
   "source": [
    "np.all(np.isfinite(X_train))"
   ]
  },
  {
   "cell_type": "code",
   "execution_count": 419,
   "id": "4424583c",
   "metadata": {},
   "outputs": [
    {
     "data": {
      "text/plain": [
       "True"
      ]
     },
     "execution_count": 419,
     "metadata": {},
     "output_type": "execute_result"
    }
   ],
   "source": [
    "np.any(np.isnan(X_test))"
   ]
  },
  {
   "cell_type": "code",
   "execution_count": 420,
   "id": "4073a964",
   "metadata": {},
   "outputs": [
    {
     "data": {
      "text/plain": [
       "False"
      ]
     },
     "execution_count": 420,
     "metadata": {},
     "output_type": "execute_result"
    }
   ],
   "source": [
    "np.all(np.isfinite(X_test))"
   ]
  },
  {
   "cell_type": "code",
   "execution_count": 421,
   "id": "5f165a63",
   "metadata": {},
   "outputs": [
    {
     "data": {
      "text/plain": [
       "False"
      ]
     },
     "execution_count": 421,
     "metadata": {},
     "output_type": "execute_result"
    }
   ],
   "source": [
    "np.any(np.isnan(y_train))"
   ]
  },
  {
   "cell_type": "code",
   "execution_count": 422,
   "id": "1ab02d0a",
   "metadata": {},
   "outputs": [
    {
     "data": {
      "text/plain": [
       "False"
      ]
     },
     "execution_count": 422,
     "metadata": {},
     "output_type": "execute_result"
    }
   ],
   "source": [
    "np.any(np.isnan(y_test))"
   ]
  },
  {
   "cell_type": "code",
   "execution_count": 423,
   "id": "8b69eece",
   "metadata": {},
   "outputs": [
    {
     "data": {
      "text/html": [
       "<div>\n",
       "<style scoped>\n",
       "    .dataframe tbody tr th:only-of-type {\n",
       "        vertical-align: middle;\n",
       "    }\n",
       "\n",
       "    .dataframe tbody tr th {\n",
       "        vertical-align: top;\n",
       "    }\n",
       "\n",
       "    .dataframe thead th {\n",
       "        text-align: right;\n",
       "    }\n",
       "</style>\n",
       "<table border=\"1\" class=\"dataframe\">\n",
       "  <thead>\n",
       "    <tr style=\"text-align: right;\">\n",
       "      <th></th>\n",
       "      <th>index</th>\n",
       "      <th>mpg</th>\n",
       "      <th>cylinders</th>\n",
       "      <th>cubicinches</th>\n",
       "      <th>hp</th>\n",
       "      <th>weightlbs</th>\n",
       "      <th>time-to-60</th>\n",
       "    </tr>\n",
       "  </thead>\n",
       "  <tbody>\n",
       "    <tr>\n",
       "      <th>0</th>\n",
       "      <td>212</td>\n",
       "      <td>39.0</td>\n",
       "      <td>4</td>\n",
       "      <td>79.0</td>\n",
       "      <td>58</td>\n",
       "      <td>1755.0</td>\n",
       "      <td>17</td>\n",
       "    </tr>\n",
       "    <tr>\n",
       "      <th>1</th>\n",
       "      <td>57</td>\n",
       "      <td>33.0</td>\n",
       "      <td>4</td>\n",
       "      <td>98.0</td>\n",
       "      <td>83</td>\n",
       "      <td>2075.0</td>\n",
       "      <td>16</td>\n",
       "    </tr>\n",
       "    <tr>\n",
       "      <th>2</th>\n",
       "      <td>48</td>\n",
       "      <td>29.0</td>\n",
       "      <td>4</td>\n",
       "      <td>97.0</td>\n",
       "      <td>78</td>\n",
       "      <td>1940.0</td>\n",
       "      <td>15</td>\n",
       "    </tr>\n",
       "    <tr>\n",
       "      <th>3</th>\n",
       "      <td>241</td>\n",
       "      <td>18.0</td>\n",
       "      <td>6</td>\n",
       "      <td>225.0</td>\n",
       "      <td>105</td>\n",
       "      <td>3121.0</td>\n",
       "      <td>17</td>\n",
       "    </tr>\n",
       "    <tr>\n",
       "      <th>4</th>\n",
       "      <td>168</td>\n",
       "      <td>20.0</td>\n",
       "      <td>6</td>\n",
       "      <td>156.0</td>\n",
       "      <td>122</td>\n",
       "      <td>2807.0</td>\n",
       "      <td>14</td>\n",
       "    </tr>\n",
       "    <tr>\n",
       "      <th>...</th>\n",
       "      <td>...</td>\n",
       "      <td>...</td>\n",
       "      <td>...</td>\n",
       "      <td>...</td>\n",
       "      <td>...</td>\n",
       "      <td>...</td>\n",
       "      <td>...</td>\n",
       "    </tr>\n",
       "    <tr>\n",
       "      <th>203</th>\n",
       "      <td>22</td>\n",
       "      <td>24.0</td>\n",
       "      <td>6</td>\n",
       "      <td>200.0</td>\n",
       "      <td>81</td>\n",
       "      <td>3012.0</td>\n",
       "      <td>18</td>\n",
       "    </tr>\n",
       "    <tr>\n",
       "      <th>204</th>\n",
       "      <td>1</td>\n",
       "      <td>31.0</td>\n",
       "      <td>4</td>\n",
       "      <td>89.0</td>\n",
       "      <td>71</td>\n",
       "      <td>1925.0</td>\n",
       "      <td>14</td>\n",
       "    </tr>\n",
       "    <tr>\n",
       "      <th>205</th>\n",
       "      <td>134</td>\n",
       "      <td>15.0</td>\n",
       "      <td>8</td>\n",
       "      <td>350.0</td>\n",
       "      <td>145</td>\n",
       "      <td>4440.0</td>\n",
       "      <td>14</td>\n",
       "    </tr>\n",
       "    <tr>\n",
       "      <th>206</th>\n",
       "      <td>239</td>\n",
       "      <td>23.0</td>\n",
       "      <td>4</td>\n",
       "      <td>122.0</td>\n",
       "      <td>86</td>\n",
       "      <td>2220.0</td>\n",
       "      <td>14</td>\n",
       "    </tr>\n",
       "    <tr>\n",
       "      <th>207</th>\n",
       "      <td>108</td>\n",
       "      <td>25.0</td>\n",
       "      <td>4</td>\n",
       "      <td>121.0</td>\n",
       "      <td>115</td>\n",
       "      <td>2671.0</td>\n",
       "      <td>14</td>\n",
       "    </tr>\n",
       "  </tbody>\n",
       "</table>\n",
       "<p>208 rows × 7 columns</p>\n",
       "</div>"
      ],
      "text/plain": [
       "     index   mpg  cylinders  cubicinches   hp  weightlbs  time-to-60\n",
       "0      212  39.0          4         79.0   58     1755.0          17\n",
       "1       57  33.0          4         98.0   83     2075.0          16\n",
       "2       48  29.0          4         97.0   78     1940.0          15\n",
       "3      241  18.0          6        225.0  105     3121.0          17\n",
       "4      168  20.0          6        156.0  122     2807.0          14\n",
       "..     ...   ...        ...          ...  ...        ...         ...\n",
       "203     22  24.0          6        200.0   81     3012.0          18\n",
       "204      1  31.0          4         89.0   71     1925.0          14\n",
       "205    134  15.0          8        350.0  145     4440.0          14\n",
       "206    239  23.0          4        122.0   86     2220.0          14\n",
       "207    108  25.0          4        121.0  115     2671.0          14\n",
       "\n",
       "[208 rows x 7 columns]"
      ]
     },
     "execution_count": 423,
     "metadata": {},
     "output_type": "execute_result"
    }
   ],
   "source": [
    "X_train.reset_index()"
   ]
  },
  {
   "cell_type": "code",
   "execution_count": 424,
   "id": "cdcc6f6a",
   "metadata": {},
   "outputs": [],
   "source": [
    "X_train = np.nan_to_num(X_train)\n",
    "X_test = np.nan_to_num(X_test)\n",
    "\n",
    "y_train = np.nan_to_num(y_train)\n",
    "y_test = np.nan_to_num(y_test)"
   ]
  },
  {
   "cell_type": "markdown",
   "id": "dc1ff1ae",
   "metadata": {},
   "source": [
    "### 1) Initiating and building Decision Tree model"
   ]
  },
  {
   "cell_type": "code",
   "execution_count": 411,
   "id": "753ca845",
   "metadata": {},
   "outputs": [],
   "source": [
    "dt = tree.DecisionTreeClassifier()"
   ]
  },
  {
   "cell_type": "code",
   "execution_count": 425,
   "id": "6083f3c5",
   "metadata": {
    "scrolled": false
   },
   "outputs": [
    {
     "data": {
      "text/plain": [
       "DecisionTreeClassifier()"
      ]
     },
     "execution_count": 425,
     "metadata": {},
     "output_type": "execute_result"
    }
   ],
   "source": [
    "dt.fit(X_train, y_train)"
   ]
  },
  {
   "cell_type": "code",
   "execution_count": 429,
   "id": "75658f17",
   "metadata": {},
   "outputs": [],
   "source": [
    "y_pred_dt = dt.predict(X_test)"
   ]
  },
  {
   "cell_type": "code",
   "execution_count": 430,
   "id": "8586b1b8",
   "metadata": {},
   "outputs": [
    {
     "name": "stdout",
     "output_type": "stream",
     "text": [
      "[0 1 2 2 2 0 0 2 2 2 0 2 1 2 0 1 2 1 2 2 2 2 2 2 0 2 2 0 2 1 2 2 0 2 0 2 2\n",
      " 2 2 1 2 2 2 1 2 1 2 2 2 0 2 0 2]\n"
     ]
    }
   ],
   "source": [
    "print(y_pred_dt)"
   ]
  },
  {
   "cell_type": "markdown",
   "id": "62861080",
   "metadata": {},
   "source": [
    "### 2) Initiating and building Random Forest Classifier model"
   ]
  },
  {
   "cell_type": "code",
   "execution_count": 468,
   "id": "88a2ccb5",
   "metadata": {},
   "outputs": [],
   "source": [
    "rf = ensemble.RandomForestClassifier()"
   ]
  },
  {
   "cell_type": "code",
   "execution_count": 469,
   "id": "104fabb2",
   "metadata": {},
   "outputs": [
    {
     "name": "stderr",
     "output_type": "stream",
     "text": [
      "/var/folders/f0/6n5cj1pd2td3sgkgfsl766lr0000gn/T/ipykernel_19446/2725846524.py:1: DataConversionWarning: A column-vector y was passed when a 1d array was expected. Please change the shape of y to (n_samples,), for example using ravel().\n",
      "  rf.fit(X_train, y_train)\n"
     ]
    },
    {
     "data": {
      "text/plain": [
       "RandomForestClassifier()"
      ]
     },
     "execution_count": 469,
     "metadata": {},
     "output_type": "execute_result"
    }
   ],
   "source": [
    "rf.fit(X_train, y_train)"
   ]
  },
  {
   "cell_type": "code",
   "execution_count": 470,
   "id": "c50d0126",
   "metadata": {},
   "outputs": [],
   "source": [
    "y_pred_rf = rf.predict(X_test)"
   ]
  },
  {
   "cell_type": "markdown",
   "id": "f161af63",
   "metadata": {},
   "source": [
    "### 3) Initiating and building Neural Network model"
   ]
  },
  {
   "cell_type": "code",
   "execution_count": 476,
   "id": "cf5454a0",
   "metadata": {},
   "outputs": [
    {
     "name": "stderr",
     "output_type": "stream",
     "text": [
      "/Users/yuliabezginova/opt/anaconda3/lib/python3.9/site-packages/sklearn/utils/validation.py:63: DataConversionWarning: A column-vector y was passed when a 1d array was expected. Please change the shape of y to (n_samples, ), for example using ravel().\n",
      "  return f(*args, **kwargs)\n"
     ]
    }
   ],
   "source": [
    "neural_network = neural_network.MLPClassifier()\n",
    "neural_network.fit(X_train, y_train)\n",
    "y_pred_nnw = neural_network.predict(X_test)"
   ]
  },
  {
   "cell_type": "markdown",
   "id": "12d55b29",
   "metadata": {},
   "source": [
    "### 4) Initiating and building Naive Bayes model"
   ]
  },
  {
   "cell_type": "code",
   "execution_count": 479,
   "id": "57fc870e",
   "metadata": {},
   "outputs": [
    {
     "name": "stderr",
     "output_type": "stream",
     "text": [
      "/Users/yuliabezginova/opt/anaconda3/lib/python3.9/site-packages/sklearn/utils/validation.py:63: DataConversionWarning: A column-vector y was passed when a 1d array was expected. Please change the shape of y to (n_samples, ), for example using ravel().\n",
      "  return f(*args, **kwargs)\n"
     ]
    }
   ],
   "source": [
    "nb = naive_bayes.GaussianNB()\n",
    "nb.fit(X_train, y_train)\n",
    "y_pred_nb = nb.predict(X_test)"
   ]
  },
  {
   "cell_type": "markdown",
   "id": "ea1ea4f7",
   "metadata": {},
   "source": [
    "### 5) Initiating and building k-neighbors model"
   ]
  },
  {
   "cell_type": "code",
   "execution_count": 501,
   "id": "582d94cf",
   "metadata": {},
   "outputs": [
    {
     "name": "stderr",
     "output_type": "stream",
     "text": [
      "/Users/yuliabezginova/opt/anaconda3/lib/python3.9/site-packages/sklearn/neighbors/_classification.py:179: DataConversionWarning: A column-vector y was passed when a 1d array was expected. Please change the shape of y to (n_samples,), for example using ravel().\n",
      "  return self._fit(X, y)\n"
     ]
    }
   ],
   "source": [
    "kneighbors = neighbors.KNeighborsClassifier(n_neighbors=2)\n",
    "kneighbors.fit(X_train, y_train)\n",
    "y_pred_kneighbors = kneighbors.predict(X_test)"
   ]
  },
  {
   "cell_type": "markdown",
   "id": "b2255e79",
   "metadata": {},
   "source": [
    "### 6) Initiating and building SVM model"
   ]
  },
  {
   "cell_type": "code",
   "execution_count": 502,
   "id": "61524468",
   "metadata": {},
   "outputs": [
    {
     "name": "stderr",
     "output_type": "stream",
     "text": [
      "/Users/yuliabezginova/opt/anaconda3/lib/python3.9/site-packages/sklearn/utils/validation.py:63: DataConversionWarning: A column-vector y was passed when a 1d array was expected. Please change the shape of y to (n_samples, ), for example using ravel().\n",
      "  return f(*args, **kwargs)\n"
     ]
    }
   ],
   "source": [
    "svmalg = svm.SVC()\n",
    "svmalg.fit(X_train, y_train)\n",
    "y_pred_svm = svmalg.predict(X_test)"
   ]
  },
  {
   "cell_type": "markdown",
   "id": "4f1ac05c",
   "metadata": {},
   "source": [
    "## Comparing algorithms"
   ]
  },
  {
   "cell_type": "code",
   "execution_count": 503,
   "id": "91c5a6e2",
   "metadata": {
    "scrolled": true
   },
   "outputs": [
    {
     "name": "stdout",
     "output_type": "stream",
     "text": [
      "Accuracy of Decision Tree is 79%\n",
      "Accuracy of Random Forest is 83%\n",
      "Accuracy of Neural Network is 66%\n",
      "Accuracy of Naive Bayes is 68%\n",
      "Accuracy of K-Neignbors is 64%\n",
      "Accuracy of SVM algorithm is 68%\n"
     ]
    }
   ],
   "source": [
    "print(\"Accuracy of Decision Tree is {}%\".format(round(metrics.accuracy_score(y_test, y_pred_dt)*100), 4))\n",
    "print(\"Accuracy of Random Forest is {}%\".format(round(metrics.accuracy_score(y_test, y_pred_rf)*100), 4))\n",
    "print(\"Accuracy of Neural Network is {}%\".format(round(metrics.accuracy_score(y_test, y_pred_nnw)*100), 4))\n",
    "print(\"Accuracy of Naive Bayes is {}%\".format(round(metrics.accuracy_score(y_test, y_pred_nb)*100), 4))\n",
    "print(\"Accuracy of K-Neignbors is {}%\".format(round(metrics.accuracy_score(y_test, y_pred_kneighbors)*100), 4))\n",
    "print(\"Accuracy of SVM algorithm is {}%\".format(round(metrics.accuracy_score(y_test, y_pred_svm)*100), 4))"
   ]
  },
  {
   "cell_type": "markdown",
   "id": "6f1c72da",
   "metadata": {},
   "source": [
    "## Conclusion:\n",
    "**when it comes to classification problem, the highest accuracy is for Random Forest algorithm.**"
   ]
  },
  {
   "cell_type": "markdown",
   "id": "5e6b419b",
   "metadata": {},
   "source": [
    "***Thank you for going through this project. Your comments are more then welcome to ybezginova2021@gmail.com***\n",
    "\n",
    "***Best wishes,***\n",
    "\n",
    "***Yulia***"
   ]
  }
 ],
 "metadata": {
  "kernelspec": {
   "display_name": "Python 3 (ipykernel)",
   "language": "python",
   "name": "python3"
  },
  "language_info": {
   "codemirror_mode": {
    "name": "ipython",
    "version": 3
   },
   "file_extension": ".py",
   "mimetype": "text/x-python",
   "name": "python",
   "nbconvert_exporter": "python",
   "pygments_lexer": "ipython3",
   "version": "3.9.7"
  }
 },
 "nbformat": 4,
 "nbformat_minor": 5
}
