{
 "cells": [
  {
   "cell_type": "markdown",
   "id": "8665481b",
   "metadata": {},
   "source": [
    "# How to save and load model to production"
   ]
  },
  {
   "cell_type": "code",
   "execution_count": 1,
   "id": "823bd4a8",
   "metadata": {},
   "outputs": [
    {
     "data": {
      "text/plain": [
       "0.566236131015755"
      ]
     },
     "execution_count": 1,
     "metadata": {},
     "output_type": "execute_result"
    }
   ],
   "source": [
    "# %%\n",
    "from sklearn.datasets import fetch_california_housing\n",
    "from sklearn.decomposition import PCA\n",
    "from sklearn.model_selection import train_test_split\n",
    "from sklearn.pipeline import Pipeline\n",
    "from sklearn.preprocessing import StandardScaler\n",
    "from sklearn.svm import SVR\n",
    "\n",
    "cal_housing = fetch_california_housing()\n",
    "\n",
    "X, y = cal_housing['data'], cal_housing['target']\n",
    "X_train, X_test, y_train, y_test = train_test_split(\n",
    "    X, y,\n",
    "    test_size=0.3,\n",
    ")\n",
    "\n",
    "pipe = Pipeline([\n",
    "    ('scale', StandardScaler()),\n",
    "    ('pca', PCA(n_components=4)),\n",
    "    ('svr', SVR()),\n",
    "])\n",
    "\n",
    "pipe.fit(X_train, y_train)\n",
    "pipe.score(X_test, y_test)\n",
    "\n",
    "# %%\n",
    "import pickle\n",
    "\n",
    "out_file = 'model.pkl'\n",
    "\n",
    "with open(out_file, 'wb') as out:\n",
    "    pickle.dump(pipe, out)\n",
    "\n",
    "# %%\n",
    "with open(out_file, 'rb') as fp:\n",
    "    pipe1 = pickle.load(fp)\n",
    "pipe1.score(X_test, y_test)"
   ]
  },
  {
   "cell_type": "markdown",
   "id": "f52b8412",
   "metadata": {},
   "source": [
    "***Thank you for going through this projet. Your comments are more then welcome to ybezginova2021@gmail.com***\n",
    "\n",
    "***Best wishes,***\n",
    "\n",
    "***Yulia***"
   ]
  }
 ],
 "metadata": {
  "kernelspec": {
   "display_name": "Python 3 (ipykernel)",
   "language": "python",
   "name": "python3"
  },
  "language_info": {
   "codemirror_mode": {
    "name": "ipython",
    "version": 3
   },
   "file_extension": ".py",
   "mimetype": "text/x-python",
   "name": "python",
   "nbconvert_exporter": "python",
   "pygments_lexer": "ipython3",
   "version": "3.9.7"
  }
 },
 "nbformat": 4,
 "nbformat_minor": 5
}
