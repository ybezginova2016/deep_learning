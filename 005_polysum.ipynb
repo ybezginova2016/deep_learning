{
 "cells": [
  {
   "cell_type": "code",
   "execution_count": 3,
   "id": "9e8bb592",
   "metadata": {},
   "outputs": [
    {
     "name": "stdout",
     "output_type": "stream",
     "text": [
      "250 µs ± 19.3 µs per loop (mean ± std. dev. of 7 runs, 10000 loops each)\n",
      "The slowest run took 49.03 times longer than the fastest. This could mean that an intermediate result is being cached.\n",
      "1.48 µs ± 3.05 µs per loop (mean ± std. dev. of 7 runs, 10000 loops each)\n"
     ]
    }
   ],
   "source": [
    "# %%\n",
    "def polyn(n):\n",
    "    total = 0\n",
    "    for _ in range(n):\n",
    "        total += (7*n*n) + (-3*n) + 42\n",
    "    return total\n",
    "\n",
    "%timeit -n 10_000 polyn(1000)\n",
    "\n",
    "# %%\n",
    "import numba\n",
    "\n",
    "@numba.jit\n",
    "def polyn_jit(n):\n",
    "    total = 0\n",
    "    for _ in range(n):\n",
    "        total += (7*n*n) + (-3*n) + 42\n",
    "    return total\n",
    "\n",
    "%timeit -n 10_000 polyn_jit(1000)"
   ]
  },
  {
   "cell_type": "markdown",
   "id": "2032d5af",
   "metadata": {},
   "source": [
    "***Thank you for going through this projet. Your comments are more then welcome to ybezginova2021@gmail.com***\n",
    "\n",
    "***Best wishes,***\n",
    "\n",
    "***Yulia***"
   ]
  }
 ],
 "metadata": {
  "kernelspec": {
   "display_name": "Python 3 (ipykernel)",
   "language": "python",
   "name": "python3"
  },
  "language_info": {
   "codemirror_mode": {
    "name": "ipython",
    "version": 3
   },
   "file_extension": ".py",
   "mimetype": "text/x-python",
   "name": "python",
   "nbconvert_exporter": "python",
   "pygments_lexer": "ipython3",
   "version": "3.9.7"
  }
 },
 "nbformat": 4,
 "nbformat_minor": 5
}
