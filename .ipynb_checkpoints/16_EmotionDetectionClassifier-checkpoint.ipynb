{
 "cells": [
  {
   "cell_type": "markdown",
   "id": "6c36766f",
   "metadata": {},
   "source": [
    "# 16.0 - ***Deep Learning*** - Emotion detection classifier model for kaggle FER Dataset\n",
    "\n",
    "Youtube Tutorial [Emotion Detection using Convolutional Neural Networks and OpenCV | Keras](https://www.youtube.com/watch?v=Bb4Wvl57LIk&ab_channel=AkshitMadan)\n",
    "\n",
    "Article [Facial Emotion Recognition](https://www.kaggle.com/code/gauravsharma99/facial-emotion-recognition/notebook)"
   ]
  },
  {
   "cell_type": "code",
   "execution_count": null,
   "id": "37aae8bc",
   "metadata": {},
   "outputs": [],
   "source": []
  },
  {
   "cell_type": "code",
   "execution_count": null,
   "id": "aad59a9b",
   "metadata": {},
   "outputs": [],
   "source": []
  },
  {
   "cell_type": "markdown",
   "id": "568b4398",
   "metadata": {},
   "source": [
    "***Thank you for going through this project. Your comments are more then welcome to ybezginova2021@gmail.com***\n",
    "\n",
    "***Best wishes,***\n",
    "\n",
    "***Yulia***"
   ]
  }
 ],
 "metadata": {
  "kernelspec": {
   "display_name": "Python 3 (ipykernel)",
   "language": "python",
   "name": "python3"
  },
  "language_info": {
   "codemirror_mode": {
    "name": "ipython",
    "version": 3
   },
   "file_extension": ".py",
   "mimetype": "text/x-python",
   "name": "python",
   "nbconvert_exporter": "python",
   "pygments_lexer": "ipython3",
   "version": "3.10.8"
  }
 },
 "nbformat": 4,
 "nbformat_minor": 5
}
