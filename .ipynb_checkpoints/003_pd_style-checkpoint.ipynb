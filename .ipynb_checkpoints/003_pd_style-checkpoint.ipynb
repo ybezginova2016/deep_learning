{
 "cells": [
  {
   "cell_type": "markdown",
   "id": "7b2aedf8",
   "metadata": {},
   "source": [
    "# Customise pandas output"
   ]
  },
  {
   "cell_type": "code",
   "execution_count": 1,
   "id": "c73ce8d7",
   "metadata": {},
   "outputs": [
    {
     "data": {
      "text/html": [
       "<style type=\"text/css\">\n",
       "#T_0463d_row0_col0, #T_0463d_row0_col1, #T_0463d_row0_col2, #T_0463d_row0_col3, #T_0463d_row1_col0, #T_0463d_row1_col2, #T_0463d_row1_col3, #T_0463d_row2_col1, #T_0463d_row2_col3, #T_0463d_row3_col2, #T_0463d_row3_col3, #T_0463d_row4_col0, #T_0463d_row4_col1, #T_0463d_row4_col2, #T_0463d_row4_col3 {\n",
       "  font-weight: bold;\n",
       "}\n",
       "</style>\n",
       "<table id=\"T_0463d_\">\n",
       "  <thead>\n",
       "    <tr>\n",
       "      <th class=\"blank level0\" >&nbsp;</th>\n",
       "      <th class=\"col_heading level0 col0\" >sepal length (cm)</th>\n",
       "      <th class=\"col_heading level0 col1\" >sepal width (cm)</th>\n",
       "      <th class=\"col_heading level0 col2\" >petal length (cm)</th>\n",
       "      <th class=\"col_heading level0 col3\" >petal width (cm)</th>\n",
       "    </tr>\n",
       "  </thead>\n",
       "  <tbody>\n",
       "    <tr>\n",
       "      <th id=\"T_0463d_level0_row0\" class=\"row_heading level0 row0\" >0</th>\n",
       "      <td id=\"T_0463d_row0_col0\" class=\"data row0 col0\" >5.100000</td>\n",
       "      <td id=\"T_0463d_row0_col1\" class=\"data row0 col1\" >3.500000</td>\n",
       "      <td id=\"T_0463d_row0_col2\" class=\"data row0 col2\" >1.400000</td>\n",
       "      <td id=\"T_0463d_row0_col3\" class=\"data row0 col3\" >0.200000</td>\n",
       "    </tr>\n",
       "    <tr>\n",
       "      <th id=\"T_0463d_level0_row1\" class=\"row_heading level0 row1\" >1</th>\n",
       "      <td id=\"T_0463d_row1_col0\" class=\"data row1 col0\" >4.900000</td>\n",
       "      <td id=\"T_0463d_row1_col1\" class=\"data row1 col1\" >3.000000</td>\n",
       "      <td id=\"T_0463d_row1_col2\" class=\"data row1 col2\" >1.400000</td>\n",
       "      <td id=\"T_0463d_row1_col3\" class=\"data row1 col3\" >0.200000</td>\n",
       "    </tr>\n",
       "    <tr>\n",
       "      <th id=\"T_0463d_level0_row2\" class=\"row_heading level0 row2\" >2</th>\n",
       "      <td id=\"T_0463d_row2_col0\" class=\"data row2 col0\" >4.700000</td>\n",
       "      <td id=\"T_0463d_row2_col1\" class=\"data row2 col1\" >3.200000</td>\n",
       "      <td id=\"T_0463d_row2_col2\" class=\"data row2 col2\" >1.300000</td>\n",
       "      <td id=\"T_0463d_row2_col3\" class=\"data row2 col3\" >0.200000</td>\n",
       "    </tr>\n",
       "    <tr>\n",
       "      <th id=\"T_0463d_level0_row3\" class=\"row_heading level0 row3\" >3</th>\n",
       "      <td id=\"T_0463d_row3_col0\" class=\"data row3 col0\" >4.600000</td>\n",
       "      <td id=\"T_0463d_row3_col1\" class=\"data row3 col1\" >3.100000</td>\n",
       "      <td id=\"T_0463d_row3_col2\" class=\"data row3 col2\" >1.500000</td>\n",
       "      <td id=\"T_0463d_row3_col3\" class=\"data row3 col3\" >0.200000</td>\n",
       "    </tr>\n",
       "    <tr>\n",
       "      <th id=\"T_0463d_level0_row4\" class=\"row_heading level0 row4\" >4</th>\n",
       "      <td id=\"T_0463d_row4_col0\" class=\"data row4 col0\" >5.000000</td>\n",
       "      <td id=\"T_0463d_row4_col1\" class=\"data row4 col1\" >3.600000</td>\n",
       "      <td id=\"T_0463d_row4_col2\" class=\"data row4 col2\" >1.400000</td>\n",
       "      <td id=\"T_0463d_row4_col3\" class=\"data row4 col3\" >0.200000</td>\n",
       "    </tr>\n",
       "  </tbody>\n",
       "</table>\n"
      ],
      "text/plain": [
       "<pandas.io.formats.style.Styler at 0x7f8480856cd0>"
      ]
     },
     "execution_count": 1,
     "metadata": {},
     "output_type": "execute_result"
    }
   ],
   "source": [
    "# %%\n",
    "from sklearn.datasets import load_iris\n",
    "\n",
    "iris = load_iris(as_frame=True)\n",
    "df = iris['data'].head(5)\n",
    "df\n",
    "\n",
    "# %%\n",
    "df.style.highlight_max()\n",
    "\n",
    "# %%\n",
    "df.style.background_gradient()\n",
    "\n",
    "# %%\n",
    "df.style.bar()\n",
    "\n",
    "# %%\n",
    "def color_round(val):\n",
    "    if round(val) == val:\n",
    "        return 'color: blue'\n",
    "    return None\n",
    "\n",
    "df.style.applymap(color_round)\n",
    "\n",
    "\n",
    "# %%\n",
    "def color_odd(val):\n",
    "    if int(val) % 2 == 1:\n",
    "        return 'background-color: orange'\n",
    "    return ''\n",
    "\n",
    "df.style.applymap(color_round).applymap(color_odd)\n",
    "\n",
    "# %%\n",
    "df.style.applymap(\n",
    "    color_odd,\n",
    "    subset=df.columns[:2],\n",
    ")\n",
    "\n",
    "# %%\n",
    "def top50(col):\n",
    "    is_top50 = col >= col.median()\n",
    "    return [\n",
    "        'font-weight: bold' if v else ''\n",
    "        for v in is_top50\n",
    "    ]\n",
    "\n",
    "df.style.apply(top50) "
   ]
  },
  {
   "cell_type": "markdown",
   "id": "7967fa85",
   "metadata": {},
   "source": [
    "***Thank you for going through this projet. Your comments are more then welcome to ybezginova2021@gmail.com***\n",
    "\n",
    "***Best wishes,***\n",
    "\n",
    "***Yulia***"
   ]
  }
 ],
 "metadata": {
  "kernelspec": {
   "display_name": "Python 3 (ipykernel)",
   "language": "python",
   "name": "python3"
  },
  "language_info": {
   "codemirror_mode": {
    "name": "ipython",
    "version": 3
   },
   "file_extension": ".py",
   "mimetype": "text/x-python",
   "name": "python",
   "nbconvert_exporter": "python",
   "pygments_lexer": "ipython3",
   "version": "3.9.7"
  }
 },
 "nbformat": 4,
 "nbformat_minor": 5
}
