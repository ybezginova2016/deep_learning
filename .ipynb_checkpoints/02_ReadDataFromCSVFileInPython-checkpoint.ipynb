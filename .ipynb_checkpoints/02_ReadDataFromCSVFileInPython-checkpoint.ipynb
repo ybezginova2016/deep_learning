{
 "cells": [
  {
   "cell_type": "markdown",
   "id": "00168efd",
   "metadata": {},
   "source": [
    "# 2.0 Read data from CSV file in Python\n",
    "\n",
    "https://www.youtube.com/watch?v=MWYRGLKMzAQ&ab_channel=Kite\n"
   ]
  },
  {
   "cell_type": "markdown",
   "id": "e0a9cb46",
   "metadata": {},
   "source": [
    "#### Creating a .txt file"
   ]
  },
  {
   "cell_type": "code",
   "execution_count": 5,
   "id": "775c1952",
   "metadata": {},
   "outputs": [],
   "source": [
    "f = open('test_file.txt', 'w')\n",
    "f.write('test text')\n",
    "f.close()"
   ]
  },
  {
   "cell_type": "markdown",
   "id": "f34f338c",
   "metadata": {},
   "source": [
    "#### Creating a .csv file"
   ]
  },
  {
   "cell_type": "code",
   "execution_count": 6,
   "id": "add34216",
   "metadata": {},
   "outputs": [],
   "source": [
    "import csv"
   ]
  },
  {
   "cell_type": "code",
   "execution_count": 8,
   "id": "8e3544c0",
   "metadata": {},
   "outputs": [],
   "source": [
    "f = open('people.csv', 'a', newline = '')\n",
    "# newline '' is needed to prevent having a new line in a csv file\n",
    "\n",
    "# adding a new row in csv file tup1\n",
    "tup1 = ('bob', 19)\n",
    "writer = csv.writer(f)\n",
    "writer.writerow(tup1)\n",
    "\n",
    "# adding a new row in csv file tup2\n",
    "tup2 = ('yulia', 32)\n",
    "writer = csv.writer(f)\n",
    "writer.writerow(tup2)\n",
    "\n",
    "f.close()"
   ]
  },
  {
   "cell_type": "markdown",
   "id": "5caf7888",
   "metadata": {},
   "source": [
    "***Thank you for going through this projet. Your comments are more then welcome to ybezginova2021@gmail.com***\n",
    "\n",
    "***Best wishes,***\n",
    "\n",
    "***Yulia***"
   ]
  }
 ],
 "metadata": {
  "kernelspec": {
   "display_name": "Python 3 (ipykernel)",
   "language": "python",
   "name": "python3"
  },
  "language_info": {
   "codemirror_mode": {
    "name": "ipython",
    "version": 3
   },
   "file_extension": ".py",
   "mimetype": "text/x-python",
   "name": "python",
   "nbconvert_exporter": "python",
   "pygments_lexer": "ipython3",
   "version": "3.9.7"
  }
 },
 "nbformat": 4,
 "nbformat_minor": 5
}
