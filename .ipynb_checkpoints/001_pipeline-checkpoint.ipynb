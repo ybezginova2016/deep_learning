{
 "cells": [
  {
   "cell_type": "markdown",
   "id": "faa02150",
   "metadata": {},
   "source": [
    "# Creating a pipepline"
   ]
  },
  {
   "cell_type": "code",
   "execution_count": 1,
   "id": "c40ff692",
   "metadata": {},
   "outputs": [
    {
     "data": {
      "text/plain": [
       "Pipeline(steps=[('scale', StandardScaler()), ('pca', PCA(n_components=4)),\n",
       "                ('svr', SVR(C=0.9))])"
      ]
     },
     "execution_count": 1,
     "metadata": {},
     "output_type": "execute_result"
    }
   ],
   "source": [
    "# %% \n",
    "from sklearn.datasets import fetch_california_housing\n",
    "from sklearn.model_selection import train_test_split\n",
    "\n",
    "cal_housing = fetch_california_housing()\n",
    "\n",
    "X, y = cal_housing['data'], cal_housing['target']\n",
    "X_train, X_test, y_train, y_test = train_test_split(\n",
    "    X, y,\n",
    "    test_size=0.3,\n",
    ")\n",
    "\n",
    "# %%\n",
    "from sklearn.decomposition import PCA\n",
    "from sklearn.pipeline import Pipeline\n",
    "from sklearn.preprocessing import StandardScaler\n",
    "from sklearn.svm import SVR\n",
    "\n",
    "pipe = Pipeline([\n",
    "    ('scale', StandardScaler()),\n",
    "    ('pca', PCA(n_components=4)),\n",
    "    ('svr', SVR()),\n",
    "])\n",
    "\n",
    "\n",
    "# %%\n",
    "pipe.fit(X_train, y_train)\n",
    "pipe.score(X_test, y_test)\n",
    "\n",
    "# %%\n",
    "pipe.steps\n",
    "\n",
    "# %%\n",
    "pipe.get_params()\n",
    "\n",
    "# %%\n",
    "pipe.set_params(svr__C=0.9)"
   ]
  },
  {
   "cell_type": "markdown",
   "id": "cd8635dc",
   "metadata": {},
   "source": [
    "***Thank you for going through this projet. Your comments are more then welcome to ybezginova2021@gmail.com***\n",
    "\n",
    "***Best wishes,***\n",
    "\n",
    "***Yulia***"
   ]
  }
 ],
 "metadata": {
  "kernelspec": {
   "display_name": "Python 3 (ipykernel)",
   "language": "python",
   "name": "python3"
  },
  "language_info": {
   "codemirror_mode": {
    "name": "ipython",
    "version": 3
   },
   "file_extension": ".py",
   "mimetype": "text/x-python",
   "name": "python",
   "nbconvert_exporter": "python",
   "pygments_lexer": "ipython3",
   "version": "3.9.7"
  }
 },
 "nbformat": 4,
 "nbformat_minor": 5
}
